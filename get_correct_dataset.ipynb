{
 "cells": [
  {
   "cell_type": "code",
   "execution_count": 12,
   "metadata": {},
   "outputs": [],
   "source": [
    "import os\n",
    "import pandas as pd"
   ]
  },
  {
   "cell_type": "code",
   "execution_count": 13,
   "metadata": {},
   "outputs": [],
   "source": [
    "def get_correct_idxs(preds, labels):\n",
    "    assert len(preds) == len(labels)\n",
    "    correct_idxs = []\n",
    "    for i in range(len(preds)):\n",
    "        if preds[i] == labels[i]:\n",
    "            correct_idxs.append(i)\n",
    "    return correct_idxs"
   ]
  },
  {
   "cell_type": "code",
   "execution_count": 19,
   "metadata": {},
   "outputs": [],
   "source": [
    "soruce_dir = \"./data/test\"\n",
    "results_dir = \"./results/flan-t5-base/preds\"\n",
    "tar_dir = \"./flan-t5-base-correct/test\"\n",
    "\n",
    "if not os.path.exists(tar_dir):\n",
    "    os.mkdir(tar_dir)\n",
    "\n",
    "for dataset in os.listdir(soruce_dir):\n",
    "    result_file = os.path.join(results_dir, dataset.replace(\"test.csv\", \"preds.txt\"))\n",
    "    lines = open(result_file).readlines()\n",
    "    df = pd.read_csv(os.path.join(soruce_dir, dataset), header=None)\n",
    "    preds = []\n",
    "    labels = []\n",
    "    for line in lines:\n",
    "        pred, label = line.split(\"\\t\")\n",
    "        label = label.strip()\n",
    "        pred = pred.strip()\n",
    "        preds.append(pred)\n",
    "        labels.append(label)\n",
    "    correct_idxs = get_correct_idxs(preds, labels)\n",
    "    # print(correct_idxs)\n",
    "    df = df.iloc[correct_idxs]\n",
    "    df.to_csv(os.path.join(tar_dir, dataset), index=False)\n",
    "\n",
    "\n"
   ]
  },
  {
   "cell_type": "code",
   "execution_count": null,
   "metadata": {},
   "outputs": [],
   "source": []
  }
 ],
 "metadata": {
  "kernelspec": {
   "display_name": "nlp",
   "language": "python",
   "name": "python3"
  },
  "language_info": {
   "codemirror_mode": {
    "name": "ipython",
    "version": 3
   },
   "file_extension": ".py",
   "mimetype": "text/x-python",
   "name": "python",
   "nbconvert_exporter": "python",
   "pygments_lexer": "ipython3",
   "version": "3.10.10"
  },
  "orig_nbformat": 4
 },
 "nbformat": 4,
 "nbformat_minor": 2
}
